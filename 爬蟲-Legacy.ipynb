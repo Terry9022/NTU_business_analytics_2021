{
 "cells": [
  {
   "cell_type": "code",
   "execution_count": 15,
   "metadata": {},
   "outputs": [],
   "source": [
    "#!pip install selenium\n",
    "from selenium import webdriver\n",
    "from selenium.webdriver.support.ui import Select\n",
    "from selenium.webdriver.chrome.options import Options"
   ]
  },
  {
   "cell_type": "code",
   "execution_count": 17,
   "metadata": {},
   "outputs": [],
   "source": [
    "from bs4 import BeautifulSoup\n",
    "import requests\n",
    "import pandas as pd"
   ]
  },
  {
   "cell_type": "code",
   "execution_count": 18,
   "metadata": {},
   "outputs": [],
   "source": [
    "options = Options()\n",
    "options.add_argument(\"--disable-notifications\")"
   ]
  },
  {
   "cell_type": "code",
   "execution_count": 19,
   "metadata": {},
   "outputs": [],
   "source": [
    "driver_path = \"/Users/terrylu/Desktop/Learn/google/chromedriver\"\n",
    "legacy_home = \"https://www.legacy.com.tw/page/programlist/\"\n",
    "driver = webdriver.Chrome(executable_path=driver_path) # Use Chrome"
   ]
  },
  {
   "cell_type": "code",
   "execution_count": 20,
   "metadata": {},
   "outputs": [],
   "source": [
    "driver.get(legacy_home)"
   ]
  },
  {
   "cell_type": "code",
   "execution_count": 21,
   "metadata": {},
   "outputs": [],
   "source": [
    "elem=Select(driver.find_element_by_css_selector(\".orange_select:nth-child(1)\"))\n",
    "elem.select_by_value(\"2021\")\n",
    "elem=Select(driver.find_element_by_css_selector(\".orange_select+ .orange_select\"))\n",
    "elem.select_by_value(\"3\")\n",
    "elem=driver.find_element_by_css_selector(\".orange_btn\")\n",
    "elem.click() "
   ]
  },
  {
   "cell_type": "code",
   "execution_count": 22,
   "metadata": {},
   "outputs": [],
   "source": [
    "soup = BeautifulSoup(driver.page_source, 'html.parser')"
   ]
  },
  {
   "cell_type": "code",
   "execution_count": 23,
   "metadata": {},
   "outputs": [],
   "source": [
    "title=[i.text for i in soup.select(\".program_search_title a\")]\n",
    "holder=[i.text for i in soup.select(\".program_search_list td+ td\")]\n",
    "place=[i.text for i in soup.select(\"tr:nth-child(3) td\")]\n",
    "address=[i.text for i in soup.select(\"tr:nth-child(4) td\")]\n",
    "time=[i.text for i in soup.select(\"tr:nth-child(5) td\")]"
   ]
  },
  {
   "cell_type": "code",
   "execution_count": 24,
   "metadata": {},
   "outputs": [
    {
     "data": {
      "text/html": [
       "<div>\n",
       "<style scoped>\n",
       "    .dataframe tbody tr th:only-of-type {\n",
       "        vertical-align: middle;\n",
       "    }\n",
       "\n",
       "    .dataframe tbody tr th {\n",
       "        vertical-align: top;\n",
       "    }\n",
       "\n",
       "    .dataframe thead th {\n",
       "        text-align: right;\n",
       "    }\n",
       "</style>\n",
       "<table border=\"1\" class=\"dataframe\">\n",
       "  <thead>\n",
       "    <tr style=\"text-align: right;\">\n",
       "      <th></th>\n",
       "      <th>title</th>\n",
       "      <th>holder</th>\n",
       "      <th>place</th>\n",
       "      <th>address</th>\n",
       "      <th>time</th>\n",
       "    </tr>\n",
       "  </thead>\n",
       "  <tbody>\n",
       "    <tr>\n",
       "      <th>0</th>\n",
       "      <td>The Next Big Thing 大團誕生（開發場1）</td>\n",
       "      <td>主辦單位： 若谷股份有限公司</td>\n",
       "      <td>演出場地： 永豐 Legacy Taipei 音樂展演空間</td>\n",
       "      <td>演出地址： 台北市八德路一段一號華山1914創意文化園區  中五館</td>\n",
       "      <td>演出日期： 2021-03-04(四)</td>\n",
       "    </tr>\n",
       "    <tr>\n",
       "      <th>1</th>\n",
       "      <td>《更迭》康士坦的變化球－加場</td>\n",
       "      <td>主辦單位： 若谷股份有限公司</td>\n",
       "      <td>演出場地： 永豐 Legacy Taipei 音樂展演空間</td>\n",
       "      <td>演出地址： 台北市八德路一段一號華山1914創意文化園區 中五館</td>\n",
       "      <td>演出日期： 2021-03-05(五)</td>\n",
       "    </tr>\n",
       "    <tr>\n",
       "      <th>2</th>\n",
       "      <td>周思潔「傻傻的花」有夢就去追 音樂會</td>\n",
       "      <td>主辦單位： 若谷股份有限公司</td>\n",
       "      <td>演出場地： 永豐 Legacy Taipei 音樂展演空間</td>\n",
       "      <td>演出地址： 台北市八德路一段一號華山1914創意文化園區  中五館</td>\n",
       "      <td>演出日期： 2021-03-07(日)</td>\n",
       "    </tr>\n",
       "    <tr>\n",
       "      <th>3</th>\n",
       "      <td>顯祖榮宗-固定客台中佈道大會</td>\n",
       "      <td>主辦單位： 若霖股份有限公司</td>\n",
       "      <td>演出場地： Legacy Taichung 傳 音樂展演空間</td>\n",
       "      <td>演出地址： 台中市西屯區安和路117號</td>\n",
       "      <td>演出日期： 2021-03-07(日)</td>\n",
       "    </tr>\n",
       "    <tr>\n",
       "      <th>4</th>\n",
       "      <td>【Legacy mini @ amba】楊宜蓉 Aura Yang 《漏光反應》</td>\n",
       "      <td>主辦單位： 若谷股份有限公司 ,群欣置業股份有限公司</td>\n",
       "      <td>演出場地： Legacy mini @ amba</td>\n",
       "      <td>演出地址： 台北市武昌街二段77號5樓</td>\n",
       "      <td>演出日期： 2021-03-07(日)</td>\n",
       "    </tr>\n",
       "    <tr>\n",
       "      <th>5</th>\n",
       "      <td>The Fur‭. ‬《Serene Reminder》沉靜的提醒‭ ‬巡迴演唱會-台中</td>\n",
       "      <td>主辦單位： 若霖股份有限公司</td>\n",
       "      <td>演出場地： Legacy Taichung 傳 音樂展演空間</td>\n",
       "      <td>演出地址： 台中市西屯區安和路117號</td>\n",
       "      <td>演出日期： 2021-03-12(五)</td>\n",
       "    </tr>\n",
       "    <tr>\n",
       "      <th>6</th>\n",
       "      <td>椅子樂團 The Chairs 第三張專輯《Real Love Is…》巡迴演唱會 台北場</td>\n",
       "      <td>主辦單位： 若谷股份有限公司</td>\n",
       "      <td>演出場地： 永豐 Legacy Taipei 音樂展演空間</td>\n",
       "      <td>演出地址： 台北市八德路一段一號華山1914創意文化園區  中五館</td>\n",
       "      <td>演出日期： 2021-03-13(六)</td>\n",
       "    </tr>\n",
       "    <tr>\n",
       "      <th>7</th>\n",
       "      <td>The Next Stop下一站是...Silver Bus / My Cat Eats M...</td>\n",
       "      <td>主辦單位： 若霖股份有限公司</td>\n",
       "      <td>演出場地： Legacy Taichung   音樂展演空間</td>\n",
       "      <td>演出地址： 台中市西屯區安和路117號</td>\n",
       "      <td>演出日期： 2021-03-13(六)</td>\n",
       "    </tr>\n",
       "    <tr>\n",
       "      <th>8</th>\n",
       "      <td>光良【絕類】新歌首唱會 UNIQUE LIVE－台北場</td>\n",
       "      <td>主辦單位： 若谷股份有限公司</td>\n",
       "      <td>演出場地： 永豐 Legacy Taipei 音樂展演空間</td>\n",
       "      <td>演出地址： 台北市八德路一段一號華山1914創意文化園區  中五館</td>\n",
       "      <td>演出日期： 2021-03-14(日)</td>\n",
       "    </tr>\n",
       "    <tr>\n",
       "      <th>9</th>\n",
       "      <td>人性魔鏡&lt;十里叢林&gt;單曲巡迴-台中場</td>\n",
       "      <td>主辦單位： 若霖股份有限公司</td>\n",
       "      <td>演出場地： Legacy Taichung  傳 音樂展演空間</td>\n",
       "      <td>演出地址： 台中市西屯區安和路117號</td>\n",
       "      <td>演出日期： 2021-03-14(日)</td>\n",
       "    </tr>\n",
       "  </tbody>\n",
       "</table>\n",
       "</div>"
      ],
      "text/plain": [
       "                                               title  \\\n",
       "0                      The Next Big Thing 大團誕生（開發場1）   \n",
       "1                                     《更迭》康士坦的變化球－加場   \n",
       "2                                 周思潔「傻傻的花」有夢就去追 音樂會   \n",
       "3                                     顯祖榮宗-固定客台中佈道大會   \n",
       "4           【Legacy mini @ amba】楊宜蓉 Aura Yang 《漏光反應》   \n",
       "5       The Fur‭. ‬《Serene Reminder》沉靜的提醒‭ ‬巡迴演唱會-台中   \n",
       "6      椅子樂團 The Chairs 第三張專輯《Real Love Is…》巡迴演唱會 台北場   \n",
       "7  The Next Stop下一站是...Silver Bus / My Cat Eats M...   \n",
       "8                        光良【絕類】新歌首唱會 UNIQUE LIVE－台北場   \n",
       "9                                 人性魔鏡<十里叢林>單曲巡迴-台中場   \n",
       "\n",
       "                       holder                            place  \\\n",
       "0              主辦單位： 若谷股份有限公司    演出場地： 永豐 Legacy Taipei 音樂展演空間   \n",
       "1              主辦單位： 若谷股份有限公司    演出場地： 永豐 Legacy Taipei 音樂展演空間   \n",
       "2              主辦單位： 若谷股份有限公司    演出場地： 永豐 Legacy Taipei 音樂展演空間   \n",
       "3              主辦單位： 若霖股份有限公司   演出場地： Legacy Taichung 傳 音樂展演空間   \n",
       "4  主辦單位： 若谷股份有限公司 ,群欣置業股份有限公司         演出場地： Legacy mini @ amba   \n",
       "5              主辦單位： 若霖股份有限公司   演出場地： Legacy Taichung 傳 音樂展演空間   \n",
       "6              主辦單位： 若谷股份有限公司    演出場地： 永豐 Legacy Taipei 音樂展演空間   \n",
       "7              主辦單位： 若霖股份有限公司   演出場地： Legacy Taichung   音樂展演空間   \n",
       "8              主辦單位： 若谷股份有限公司    演出場地： 永豐 Legacy Taipei 音樂展演空間   \n",
       "9              主辦單位： 若霖股份有限公司  演出場地： Legacy Taichung  傳 音樂展演空間   \n",
       "\n",
       "                             address                 time  \n",
       "0  演出地址： 台北市八德路一段一號華山1914創意文化園區  中五館  演出日期： 2021-03-04(四)  \n",
       "1   演出地址： 台北市八德路一段一號華山1914創意文化園區 中五館  演出日期： 2021-03-05(五)  \n",
       "2  演出地址： 台北市八德路一段一號華山1914創意文化園區  中五館  演出日期： 2021-03-07(日)  \n",
       "3                演出地址： 台中市西屯區安和路117號  演出日期： 2021-03-07(日)  \n",
       "4                演出地址： 台北市武昌街二段77號5樓  演出日期： 2021-03-07(日)  \n",
       "5                演出地址： 台中市西屯區安和路117號  演出日期： 2021-03-12(五)  \n",
       "6  演出地址： 台北市八德路一段一號華山1914創意文化園區  中五館  演出日期： 2021-03-13(六)  \n",
       "7                演出地址： 台中市西屯區安和路117號  演出日期： 2021-03-13(六)  \n",
       "8  演出地址： 台北市八德路一段一號華山1914創意文化園區  中五館  演出日期： 2021-03-14(日)  \n",
       "9                演出地址： 台中市西屯區安和路117號  演出日期： 2021-03-14(日)  "
      ]
     },
     "execution_count": 24,
     "metadata": {},
     "output_type": "execute_result"
    }
   ],
   "source": [
    "onepage=pd.DataFrame({'title':title,\n",
    "              'holder':holder,\n",
    "              'place':place,\n",
    "              'address':address,\n",
    "              'time':time})"
   ]
  },
  {
   "cell_type": "code",
   "execution_count": null,
   "metadata": {},
   "outputs": [],
   "source": [
    "totalpage=[]"
   ]
  },
  {
   "cell_type": "code",
   "execution_count": null,
   "metadata": {},
   "outputs": [],
   "source": [
    "totalpage.append(onepage)"
   ]
  },
  {
   "cell_type": "code",
   "execution_count": null,
   "metadata": {},
   "outputs": [],
   "source": []
  },
  {
   "cell_type": "code",
   "execution_count": 25,
   "metadata": {},
   "outputs": [],
   "source": [
    "driver.quit()"
   ]
  },
  {
   "cell_type": "code",
   "execution_count": null,
   "metadata": {},
   "outputs": [],
   "source": []
  }
 ],
 "metadata": {
  "kernelspec": {
   "display_name": "Python 3",
   "language": "python",
   "name": "python3"
  },
  "language_info": {
   "codemirror_mode": {
    "name": "ipython",
    "version": 3
   },
   "file_extension": ".py",
   "mimetype": "text/x-python",
   "name": "python",
   "nbconvert_exporter": "python",
   "pygments_lexer": "ipython3",
   "version": "3.8.3"
  }
 },
 "nbformat": 4,
 "nbformat_minor": 4
}
